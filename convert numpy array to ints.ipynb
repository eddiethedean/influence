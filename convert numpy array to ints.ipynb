{
 "cells": [
  {
   "cell_type": "code",
   "execution_count": 6,
   "id": "8ca8512f",
   "metadata": {},
   "outputs": [],
   "source": [
    "import numpy as np\n",
    "x = np.array([1.55, 2.78, 3.0984, 4.834, 5.0834])\n",
    "\n",
    "\n",
    "def convert_array_to_ints(a: np.array, n=2) -> int:\n",
    "    for _ in range(n):\n",
    "        a *= 10\n",
    "    return a.astype(int)\n",
    "\n",
    "ints = convert_to_int(x)"
   ]
  },
  {
   "cell_type": "code",
   "execution_count": 7,
   "id": "0d6b97ac",
   "metadata": {},
   "outputs": [
    {
     "data": {
      "text/plain": [
       "array([155, 278, 309, 483, 508])"
      ]
     },
     "execution_count": 7,
     "metadata": {},
     "output_type": "execute_result"
    }
   ],
   "source": [
    "ints"
   ]
  },
  {
   "cell_type": "code",
   "execution_count": null,
   "id": "a76bdf15",
   "metadata": {},
   "outputs": [],
   "source": []
  }
 ],
 "metadata": {
  "kernelspec": {
   "display_name": "Python 3 (ipykernel)",
   "language": "python",
   "name": "python3"
  },
  "language_info": {
   "codemirror_mode": {
    "name": "ipython",
    "version": 3
   },
   "file_extension": ".py",
   "mimetype": "text/x-python",
   "name": "python",
   "nbconvert_exporter": "python",
   "pygments_lexer": "ipython3",
   "version": "3.10.8"
  }
 },
 "nbformat": 4,
 "nbformat_minor": 5
}
