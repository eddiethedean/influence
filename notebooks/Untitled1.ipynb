{
 "cells": [
  {
   "cell_type": "code",
   "execution_count": 8,
   "id": "6f6e20b2",
   "metadata": {},
   "outputs": [
    {
     "data": {
      "text/plain": [
       "array([[0.        , 1.        , 0.30368938],\n",
       "       [1.        , 0.        , 0.59798487],\n",
       "       [0.30368938, 0.59798487, 0.        ]])"
      ]
     },
     "execution_count": 8,
     "metadata": {},
     "output_type": "execute_result"
    }
   ],
   "source": [
    "import numpy as np\n",
    "import pandas as pd\n",
    "from sklearn.metrics.pairwise import pairwise_distances, pairwise_distances_chunked\n",
    "\n",
    "df = pd.DataFrame(np.random.randint(0, 5, (3, 5)))\n",
    "\n",
    "df\n",
    "##      0   1   2   3   4\n",
    "## 0    4   2   1   3   2\n",
    "## 1    3   2   0   0   1\n",
    "## 2    3   3   4   2   4\n",
    "\n",
    "pairwise_distances(df,metric='cosine')"
   ]
  },
  {
   "cell_type": "code",
   "execution_count": 9,
   "id": "43d9d187",
   "metadata": {},
   "outputs": [
    {
     "name": "stdout",
     "output_type": "stream",
     "text": [
      "{0: 0.0, 1: 1.0, 2: 0.3036893761772086}\n",
      "{0: 1.0, 1: 0.0, 2: 0.5979848738963152}\n",
      "{0: 0.3036893761772086, 1: 0.5979848738963152, 2: 0.0}\n"
     ]
    }
   ],
   "source": [
    "def results_generator(df, metric='cosine'):\n",
    "    generator = pairwise_distances_chunked(df, metric=metric)\n",
    "    for chunk in generator:\n",
    "        for i, row in pd.DataFrame(chunk).iterrows():\n",
    "            yield row\n",
    "\n",
    "for row in results_generator(df):\n",
    "    print(dict(row))"
   ]
  },
  {
   "cell_type": "code",
   "execution_count": null,
   "id": "86180dd2",
   "metadata": {},
   "outputs": [],
   "source": []
  }
 ],
 "metadata": {
  "kernelspec": {
   "display_name": "Python 3 (ipykernel)",
   "language": "python",
   "name": "python3"
  },
  "language_info": {
   "codemirror_mode": {
    "name": "ipython",
    "version": 3
   },
   "file_extension": ".py",
   "mimetype": "text/x-python",
   "name": "python",
   "nbconvert_exporter": "python",
   "pygments_lexer": "ipython3",
   "version": "3.10.8"
  }
 },
 "nbformat": 4,
 "nbformat_minor": 5
}
